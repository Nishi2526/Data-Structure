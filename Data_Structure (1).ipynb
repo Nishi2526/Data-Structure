{
  "nbformat": 4,
  "nbformat_minor": 0,
  "metadata": {
    "colab": {
      "provenance": []
    },
    "kernelspec": {
      "name": "python3",
      "display_name": "Python 3"
    },
    "language_info": {
      "name": "python"
    }
  },
  "cells": [
    {
      "cell_type": "markdown",
      "source": [
        "#Data Structure\n",
        "Theotical Questions:"
      ],
      "metadata": {
        "id": "ChMrf2ZaV8ga"
      }
    },
    {
      "cell_type": "markdown",
      "source": [
        "1. What are the data structures, and why are they important?\n",
        "  Ans. Data structure are way to organise and store data in a computer so that it can be efficiently accessed, modified, and manipulated.\n",
        "      Importance of data structure:\n",
        "      1. Efficient data access:\n",
        "      2. Data organization:\n",
        "      3. Improved algorithm performance:\n",
        "      4. Scalability:\n",
        "      5. Problem solving:"
      ],
      "metadata": {
        "id": "kta5qhaVWB3R"
      }
    },
    {
      "cell_type": "markdown",
      "source": [
        "2. Explain the difference between mutable and immutable data types with examples?\n",
        "   Ans.  Mutable Data Types: can be modified after they are created. This means that you can change the contrnt of the data structure without creating a new one. Examples: Lists, Dictionaries, Sets  "
      ],
      "metadata": {
        "id": "2gvb-Ll_XenU"
      }
    },
    {
      "cell_type": "code",
      "source": [
        "my_list = [1,2,3]\n",
        "my_list.append(4)\n",
        "print (my_list)\n"
      ],
      "metadata": {
        "colab": {
          "base_uri": "https://localhost:8080/"
        },
        "id": "6f4R3UohY7E1",
        "outputId": "8401beb3-5e54-4b51-944c-ba4eb5fc4c05"
      },
      "execution_count": null,
      "outputs": [
        {
          "output_type": "stream",
          "name": "stdout",
          "text": [
            "[1, 2, 3, 4]\n"
          ]
        }
      ]
    },
    {
      "cell_type": "code",
      "source": [
        "my_dict = {\"name\":\"john\",\"age\": 30}\n",
        "my_dict[\"city\"] = \"New York\"\n",
        "print(my_dict)\n"
      ],
      "metadata": {
        "colab": {
          "base_uri": "https://localhost:8080/"
        },
        "id": "q_2C6mqwZab-",
        "outputId": "5eca018c-9aa9-4bdd-9cca-b89bab990daa"
      },
      "execution_count": null,
      "outputs": [
        {
          "output_type": "stream",
          "name": "stdout",
          "text": [
            "{'name': 'john', 'age': 30, 'city': 'New York'}\n"
          ]
        }
      ]
    },
    {
      "cell_type": "code",
      "source": [
        "my_set = {1,2,3}\n",
        "my_set.add(4)\n",
        "print(my_set)\n"
      ],
      "metadata": {
        "colab": {
          "base_uri": "https://localhost:8080/"
        },
        "id": "T9la3_qraif1",
        "outputId": "01a57ac7-a12e-46c1-9d85-1df99347ba36"
      },
      "execution_count": null,
      "outputs": [
        {
          "output_type": "stream",
          "name": "stdout",
          "text": [
            "{1, 2, 3, 4}\n"
          ]
        }
      ]
    },
    {
      "cell_type": "markdown",
      "source": [
        "3. What are the main differences between lists and tuples in python?\n",
        "   Ans: The main difference between lists and tuples in python are:\n",
        "        1. Mutability\n",
        "        2. Syntax\n",
        "        3. Use cases\n",
        "        4. Performances\n",
        "   \n"
      ],
      "metadata": {
        "id": "CWF30YCHayw_"
      }
    },
    {
      "cell_type": "markdown",
      "source": [
        "4. Describe how dictionaries store data?\n",
        "   Ans: Dictionaries in python store data as a collection of key-value pairs.\n",
        "        1.Key-value pairs\n",
        "        2. Hash table\n",
        "        3. Lookup\n",
        "      "
      ],
      "metadata": {
        "id": "qwpqDAYkcSYw"
      }
    },
    {
      "cell_type": "markdown",
      "source": [
        "5. Why might you use a set instead of a list in python?\n",
        "   Ans: 1. Uniqueness of elements\n",
        "        2. Fast membership testing\n",
        "        3. Efficient set operations\n",
        "        4. Improved performance\n",
        "        "
      ],
      "metadata": {
        "id": "kn99SP7DdWDJ"
      }
    },
    {
      "cell_type": "markdown",
      "source": [
        "6. What is a string in python, and how is it different from a list?\n",
        "   Ans: In python a string is a sequence of characters, such as letters, numbers,or symbols, enclosed in quotes (either single quotes' or double quotes\")."
      ],
      "metadata": {
        "id": "N-0KBxPEeT3U"
      }
    },
    {
      "cell_type": "code",
      "source": [
        "# String example\n",
        "my_string = \"hello\"\n",
        "try:\n",
        "  my_string[0] \"H\"\n",
        "  except TypeError:\n",
        "    print(\"Strings are immutable\")"
      ],
      "metadata": {
        "colab": {
          "base_uri": "https://localhost:8080/",
          "height": 106
        },
        "id": "yE2jCz8zfYKw",
        "outputId": "042b5d2f-fa1f-44e8-fa91-3eb729531b79"
      },
      "execution_count": null,
      "outputs": [
        {
          "output_type": "error",
          "ename": "SyntaxError",
          "evalue": "invalid syntax (<ipython-input-6-15f62c1561c7>, line 4)",
          "traceback": [
            "\u001b[0;36m  File \u001b[0;32m\"<ipython-input-6-15f62c1561c7>\"\u001b[0;36m, line \u001b[0;32m4\u001b[0m\n\u001b[0;31m    my_string[0] \"H\"\u001b[0m\n\u001b[0m                 ^\u001b[0m\n\u001b[0;31mSyntaxError\u001b[0m\u001b[0;31m:\u001b[0m invalid syntax\n"
          ]
        }
      ]
    },
    {
      "cell_type": "code",
      "source": [
        "#List example\n",
        "my_list = [\"h\",\"e\",\"l\",\"l\",\"o\"]\n",
        "my_list[0] = \"H\"\n",
        "print(my_list)\n"
      ],
      "metadata": {
        "colab": {
          "base_uri": "https://localhost:8080/"
        },
        "id": "JPdaCnbsgFON",
        "outputId": "534e445e-3f7b-48cb-e525-2321035ee52a"
      },
      "execution_count": null,
      "outputs": [
        {
          "output_type": "stream",
          "name": "stdout",
          "text": [
            "['H', 'e', 'l', 'l', 'o']\n"
          ]
        }
      ]
    },
    {
      "cell_type": "markdown",
      "source": [
        "7. How do tuples ensure data integrity in python?\n",
        "   Ans: Tuples in python ensure data integrity in several ways:\n",
        "        1. Immutability\n",
        "        2. Protection against unintended changes\n",
        "        3. Thread safety\n",
        "        4. Code clearity and predictability"
      ],
      "metadata": {
        "id": "0ufI0KtMhAjp"
      }
    },
    {
      "cell_type": "markdown",
      "source": [
        "8. What is a hash table,and how does it relate to dictionaries in python?\n",
        "   Ans: A hash table is a data structure that stores key-value pairs, in an array usind a hash function to map keys to indicies of the array.\n",
        "       Relation to dictionaries in python:\n",
        "       1. Dictionaries are implemented as hash tables:\n",
        "       2. Fast lookups:\n",
        "       3. Efficient insertion and deletion:"
      ],
      "metadata": {
        "id": "u1Ym2KBth7xP"
      }
    },
    {
      "cell_type": "code",
      "source": [
        "#dictionary example\n",
        "my_dict = {\"name\": \"john\", \"age\":30}\n",
        "print(my_dict[\"name\"])\n"
      ],
      "metadata": {
        "colab": {
          "base_uri": "https://localhost:8080/"
        },
        "id": "Nds0Uc9cjeEU",
        "outputId": "545b1203-dda7-4a36-9f56-28a60fc50003"
      },
      "execution_count": null,
      "outputs": [
        {
          "output_type": "stream",
          "name": "stdout",
          "text": [
            "john\n"
          ]
        }
      ]
    },
    {
      "cell_type": "markdown",
      "source": [
        "9. Can lists contain different data types in python?\n",
        "Ans:  Yes, lists in python can contain different data types.\n",
        "      example:"
      ],
      "metadata": {
        "id": "cL3yBamlkDf7"
      }
    },
    {
      "cell_type": "code",
      "source": [
        "my_list = [1,\"hello\",3.14, True, None]\n",
        "print(my_list)"
      ],
      "metadata": {
        "colab": {
          "base_uri": "https://localhost:8080/"
        },
        "id": "Q1KYHeWLknva",
        "outputId": "f4d037e5-9e20-4055-ac03-1fa314e7cd64"
      },
      "execution_count": null,
      "outputs": [
        {
          "output_type": "stream",
          "name": "stdout",
          "text": [
            "[1, 'hello', 3.14, True, None]\n"
          ]
        }
      ]
    },
    {
      "cell_type": "markdown",
      "source": [
        "10. Explain why strings are immutable in python?\n",
        "Ans:  Strings in python are immutable, meaning that once a string is created,its contents cannot be modified.\n"
      ],
      "metadata": {
        "id": "M7c_itcCldJr"
      }
    },
    {
      "cell_type": "markdown",
      "source": [
        "11. What advantages do dictionaries offer over lists for certain tasks?\n",
        "Ans:  When to use dictionaries: you need fast lookup and efficient data retrieval, you need to store and retrieve data using a meaningful keys,you are working with complex data structures or graph.\n",
        "     When to use lists: you need to store a collection of data that needs to be accessed by index, you need to perform operations that require indexing, such as slicing or sorting."
      ],
      "metadata": {
        "id": "NY1hf3dumRd7"
      }
    },
    {
      "cell_type": "markdown",
      "source": [
        "12. Describe a scenario where using a tuple would be preferable over a list?\n",
        "   Ans: lists are mutable which means that the records content could be modified accidentally or maliciously.lists do not provide the same level of data integrity as tuples which could lead to errors or inconsistencies in the data."
      ],
      "metadata": {
        "id": "WYM6mL9Anvz_"
      }
    },
    {
      "cell_type": "markdown",
      "source": [
        "13. How do sets handle duplicate value in python?\n",
        "   Ans: sets only store unique elements,which means that duplicate values are automatocally ignored.When you add a duplicate value to a set,python simply ignores it and dosent add it to the set."
      ],
      "metadata": {
        "id": "0bB4AyGFpdKI"
      }
    },
    {
      "cell_type": "markdown",
      "source": [
        "14. How does the \"in\" keyword work differently for lists and dictionaries?\n",
        "  Ans: When using in with a list, python checks if a value is present in the list.python performs a sequential search through the list to find the value."
      ],
      "metadata": {
        "id": "GbErSR3Kqt1y"
      }
    },
    {
      "cell_type": "code",
      "source": [
        "my_list = [1,2,3,4,5]\n",
        "print(3 in my_list)"
      ],
      "metadata": {
        "colab": {
          "base_uri": "https://localhost:8080/"
        },
        "id": "KeZAuQcfshHl",
        "outputId": "e86ab249-92f9-4c8e-eaf1-6c20a7156c72"
      },
      "execution_count": null,
      "outputs": [
        {
          "output_type": "stream",
          "name": "stdout",
          "text": [
            "True\n"
          ]
        }
      ]
    },
    {
      "cell_type": "code",
      "source": [
        "my_list = [1,2,3,4,5]\n",
        "print(6 in my_list)"
      ],
      "metadata": {
        "colab": {
          "base_uri": "https://localhost:8080/"
        },
        "id": "3rWU7FnRsxor",
        "outputId": "e4ead6cb-ae88-42ed-ada0-bbd624b5a511"
      },
      "execution_count": null,
      "outputs": [
        {
          "output_type": "stream",
          "name": "stdout",
          "text": [
            "False\n"
          ]
        }
      ]
    },
    {
      "cell_type": "code",
      "source": [
        "#dictionaries example\n",
        "my_dict = {\"name\":\"john\",\"age\":30}\n",
        "print(\"name\" in my_dict)"
      ],
      "metadata": {
        "colab": {
          "base_uri": "https://localhost:8080/"
        },
        "id": "1CCmwEC_tDS8",
        "outputId": "8677f4e9-1333-45ae-af66-ebd5dcc3bb87"
      },
      "execution_count": null,
      "outputs": [
        {
          "output_type": "stream",
          "name": "stdout",
          "text": [
            "True\n"
          ]
        }
      ]
    },
    {
      "cell_type": "markdown",
      "source": [
        "15. Can you modify the elemnets of a tuple?Explain why or why not?\n",
        "   Ans: No, you cannot modify the elements of a tuple directly.\n",
        "     \n"
      ],
      "metadata": {
        "id": "qd6eW2vXtmr1"
      }
    },
    {
      "cell_type": "code",
      "source": [
        "# Attempting to modify a tuple\n",
        "my_tuple = (1,2,3)\n",
        "try:\n",
        "  my_tuple[o] = 4\n",
        "  except TypeError:\n",
        "    print(\"tuples are immutable\")\n"
      ],
      "metadata": {
        "colab": {
          "base_uri": "https://localhost:8080/",
          "height": 106
        },
        "id": "JEWXWwT0uyT2",
        "outputId": "64c70c85-47d4-45a1-cd24-23929533e101"
      },
      "execution_count": null,
      "outputs": [
        {
          "output_type": "error",
          "ename": "SyntaxError",
          "evalue": "invalid syntax (<ipython-input-16-dfe254d0588b>, line 5)",
          "traceback": [
            "\u001b[0;36m  File \u001b[0;32m\"<ipython-input-16-dfe254d0588b>\"\u001b[0;36m, line \u001b[0;32m5\u001b[0m\n\u001b[0;31m    except TypeError:\u001b[0m\n\u001b[0m    ^\u001b[0m\n\u001b[0;31mSyntaxError\u001b[0m\u001b[0;31m:\u001b[0m invalid syntax\n"
          ]
        }
      ]
    },
    {
      "cell_type": "code",
      "source": [
        "# Example of creating a new tuple\n",
        "my_tuple = (1,2,3)\n",
        "new_tuple = (4,) + my_tuple[1:]\n",
        "print(new_tuple)\n"
      ],
      "metadata": {
        "colab": {
          "base_uri": "https://localhost:8080/"
        },
        "id": "UH7LLwJ3vaBv",
        "outputId": "732bccf0-e6c4-4d67-888d-00bb0902ce30"
      },
      "execution_count": null,
      "outputs": [
        {
          "output_type": "stream",
          "name": "stdout",
          "text": [
            "(4, 2, 3)\n"
          ]
        }
      ]
    },
    {
      "cell_type": "markdown",
      "source": [
        "16. What is a nested dictionary, and give an example of its use case?\n",
        "   Ans: A nested dictionary is a dictionary that contains another dictionary as its value. example of a nested dictionary:"
      ],
      "metadata": {
        "id": "z833OMNov0uz"
      }
    },
    {
      "cell_type": "code",
      "source": [
        "person = {\n",
        "    \"name\":\"john\",\n",
        "    \"age\":30\n",
        "    \"address\":{\n",
        "        \"street\":\"123Main St\",\n",
        "        \"city\":\"New York\",\n",
        "        \"state\":\"NY\"\n",
        "    }\n",
        "}"
      ],
      "metadata": {
        "colab": {
          "base_uri": "https://localhost:8080/",
          "height": 106
        },
        "id": "AJYyIojZwoWl",
        "outputId": "d3c1fa44-f2cf-499a-f1c7-92b70e9b74a3"
      },
      "execution_count": null,
      "outputs": [
        {
          "output_type": "error",
          "ename": "SyntaxError",
          "evalue": "invalid syntax. Perhaps you forgot a comma? (<ipython-input-18-0228f0dad809>, line 3)",
          "traceback": [
            "\u001b[0;36m  File \u001b[0;32m\"<ipython-input-18-0228f0dad809>\"\u001b[0;36m, line \u001b[0;32m3\u001b[0m\n\u001b[0;31m    \"age\":30\u001b[0m\n\u001b[0m          ^\u001b[0m\n\u001b[0;31mSyntaxError\u001b[0m\u001b[0;31m:\u001b[0m invalid syntax. Perhaps you forgot a comma?\n"
          ]
        }
      ]
    },
    {
      "cell_type": "markdown",
      "source": [
        "17. Describe the time complexity of accessing elements in a dictionary?\n",
        "Ans: The time complexity of accesssing elements in a dictionary is typically O(1),making it a very efficient data structure for lookups."
      ],
      "metadata": {
        "id": "GEHknYfsxeC8"
      }
    },
    {
      "cell_type": "markdown",
      "source": [
        "18. In what situations are lists preferred over dictionaries?\n",
        "  Ans: 1. Ordered data\n",
        "       2. Index-based access\n",
        "       3. Sequence operations\n",
        "       4. Homogeneous data\n",
        "       5. iteration\n",
        "       "
      ],
      "metadata": {
        "id": "3G8sPFkTzVaR"
      }
    },
    {
      "cell_type": "markdown",
      "source": [
        "19. Why are dictionaries considered unordered , and how does that affect data retrieval?\n",
        "  Ans: Dictionaries in python are considered unordered because they do not maintain the insertion order of elements prior to python."
      ],
      "metadata": {
        "id": "JS_-C-b80HYz"
      }
    },
    {
      "cell_type": "markdown",
      "source": [
        "20. Explain the difference between lists and a dictionary in terms of data retrieval?\n",
        "  Ans: Lists:\n",
        "      1.Index based access\n",
        "      2.Sequential access\n",
        "       Dictionaries:\n",
        "      1. Key-based access\n",
        "      2. Direct access  "
      ],
      "metadata": {
        "id": "2btrY9821HxS"
      }
    },
    {
      "cell_type": "code",
      "source": [
        "#list example\n",
        "my_list = [1,2,3,4,5]\n",
        "print(my_list[0])\n"
      ],
      "metadata": {
        "colab": {
          "base_uri": "https://localhost:8080/"
        },
        "id": "4y5gFZtb2QJe",
        "outputId": "2f16a29a-960a-4805-ec4f-473a525cd5eb"
      },
      "execution_count": null,
      "outputs": [
        {
          "output_type": "stream",
          "name": "stdout",
          "text": [
            "1\n"
          ]
        }
      ]
    },
    {
      "cell_type": "code",
      "source": [
        "#Dictionary example\n",
        "my_dict = {\"name\":\"john\",\"age\":30}\n",
        "print(my_dict[\"name\"])"
      ],
      "metadata": {
        "colab": {
          "base_uri": "https://localhost:8080/"
        },
        "id": "H6n8BVwg2qoS",
        "outputId": "a010ce01-4346-44da-ee5f-4cce996d78fe"
      },
      "execution_count": null,
      "outputs": [
        {
          "output_type": "stream",
          "name": "stdout",
          "text": [
            "john\n"
          ]
        }
      ]
    },
    {
      "cell_type": "markdown",
      "source": [
        "# Practical Question\n"
      ],
      "metadata": {
        "id": "m8OcCNuv3F4r"
      }
    },
    {
      "cell_type": "markdown",
      "source": [
        "1. Write a code to create a string with your name and print it?"
      ],
      "metadata": {
        "id": "7a44JgMKEQZq"
      }
    },
    {
      "cell_type": "code",
      "source": [
        "name = \"Ajay\"\n",
        "print(name)"
      ],
      "metadata": {
        "colab": {
          "base_uri": "https://localhost:8080/"
        },
        "id": "Eil_KymBEaC1",
        "outputId": "1126500d-76cd-42b9-8354-2ea029088dca"
      },
      "execution_count": null,
      "outputs": [
        {
          "output_type": "stream",
          "name": "stdout",
          "text": [
            "Ajay\n"
          ]
        }
      ]
    },
    {
      "cell_type": "markdown",
      "source": [
        "2. write a code to find the length of a string \"Hello World\""
      ],
      "metadata": {
        "id": "maQuVuwYE49A"
      }
    },
    {
      "cell_type": "code",
      "source": [
        "string = \"Hello World\"\n",
        "length = len(string)\n",
        "print(\"the length of the string is:\",length)"
      ],
      "metadata": {
        "colab": {
          "base_uri": "https://localhost:8080/"
        },
        "id": "rLPVZoc-FGY-",
        "outputId": "dc745fb1-1ebd-4d25-86b0-569ba4272da6"
      },
      "execution_count": null,
      "outputs": [
        {
          "output_type": "stream",
          "name": "stdout",
          "text": [
            "the length of the string is: 11\n"
          ]
        }
      ]
    },
    {
      "cell_type": "markdown",
      "source": [
        "3. Write a code to slice the first 3 characters from the string \"Python Programming\""
      ],
      "metadata": {
        "id": "UW0SiOWcFvWb"
      }
    },
    {
      "cell_type": "code",
      "source": [
        "string = \"python programming\"\n",
        "sliced_string = string[:3]\n",
        "print(sliced_string)"
      ],
      "metadata": {
        "colab": {
          "base_uri": "https://localhost:8080/"
        },
        "id": "ID1k8qpMF99V",
        "outputId": "5f17f3f9-d60e-49f6-f23d-2fdd923b76f4"
      },
      "execution_count": null,
      "outputs": [
        {
          "output_type": "stream",
          "name": "stdout",
          "text": [
            "pyt\n"
          ]
        }
      ]
    },
    {
      "cell_type": "markdown",
      "source": [
        "4. Write a code to convert the string \"hello\" to uppercase"
      ],
      "metadata": {
        "id": "bZEbnEvmGdWB"
      }
    },
    {
      "cell_type": "code",
      "source": [
        "string = \"Hello\"\n",
        "uppercase_string = string.upper()\n",
        "print(uppercase_string)"
      ],
      "metadata": {
        "colab": {
          "base_uri": "https://localhost:8080/"
        },
        "id": "rL_ldczeGnKY",
        "outputId": "f2265c8e-f781-42ce-88c2-23514167f054"
      },
      "execution_count": null,
      "outputs": [
        {
          "output_type": "stream",
          "name": "stdout",
          "text": [
            "HELLO\n"
          ]
        }
      ]
    },
    {
      "cell_type": "markdown",
      "source": [
        "5. Write a code to replace the word \"apple\"with \"arrange\" in the string \"I like apple\""
      ],
      "metadata": {
        "id": "YhYCONBhHDCj"
      }
    },
    {
      "cell_type": "code",
      "source": [
        "string = \"I like apple\"\n",
        "new_string = string.replace(\"apple\",\"arrange\")\n",
        "print(new_string)"
      ],
      "metadata": {
        "colab": {
          "base_uri": "https://localhost:8080/"
        },
        "id": "tbcqgkzfHQ0r",
        "outputId": "39bf16e9-44e3-45d8-9b70-52047e7c431b"
      },
      "execution_count": null,
      "outputs": [
        {
          "output_type": "stream",
          "name": "stdout",
          "text": [
            "I like arrange\n"
          ]
        }
      ]
    },
    {
      "cell_type": "markdown",
      "source": [
        "6. Write a code to create a list with numbers 1 to 5 and print it."
      ],
      "metadata": {
        "id": "A-Gv7jjfIGzN"
      }
    },
    {
      "cell_type": "code",
      "source": [
        "numbers = [1,2,3,4,5]\n",
        "print(numbers)"
      ],
      "metadata": {
        "colab": {
          "base_uri": "https://localhost:8080/"
        },
        "id": "P62mw_wyIVRi",
        "outputId": "1bcbdf36-0c50-4f73-b6b9-ec3b79269d6a"
      },
      "execution_count": null,
      "outputs": [
        {
          "output_type": "stream",
          "name": "stdout",
          "text": [
            "[1, 2, 3, 4, 5]\n"
          ]
        }
      ]
    },
    {
      "cell_type": "markdown",
      "source": [
        "7. Write a code to append the number 10 to the list [1,2,3,4]."
      ],
      "metadata": {
        "id": "RQTAGDqwIy2y"
      }
    },
    {
      "cell_type": "code",
      "source": [
        "numbers = [1,2,3,4]\n",
        "numbers.append(10)\n",
        "print(numbers)"
      ],
      "metadata": {
        "colab": {
          "base_uri": "https://localhost:8080/"
        },
        "id": "205CJAqkI_LL",
        "outputId": "fc437ab0-2f7e-4ef4-ef06-efcd713a59aa"
      },
      "execution_count": null,
      "outputs": [
        {
          "output_type": "stream",
          "name": "stdout",
          "text": [
            "[1, 2, 3, 4, 10]\n"
          ]
        }
      ]
    },
    {
      "cell_type": "markdown",
      "source": [
        "8. Write a code to remove the number 3 from the list[1,2,3,4,5]."
      ],
      "metadata": {
        "id": "-bxkNwYvJXOy"
      }
    },
    {
      "cell_type": "code",
      "source": [
        "numbers = [1,2,3,4,5]\n",
        "numbers.remove(3)\n",
        "print(numbers)"
      ],
      "metadata": {
        "colab": {
          "base_uri": "https://localhost:8080/"
        },
        "id": "1WBkZDzlJi2B",
        "outputId": "8fc260b6-aec1-452d-feaf-f32a842f93b9"
      },
      "execution_count": null,
      "outputs": [
        {
          "output_type": "stream",
          "name": "stdout",
          "text": [
            "[1, 2, 4, 5]\n"
          ]
        }
      ]
    },
    {
      "cell_type": "markdown",
      "source": [
        "9. Write a code to access the second element in the list ['a','b','c','d',]"
      ],
      "metadata": {
        "id": "wbIlehxnJ4lL"
      }
    },
    {
      "cell_type": "code",
      "source": [
        "letters = ['a','b','c','d']\n",
        "second_elements = letters[1]\n",
        "print(second_elements)"
      ],
      "metadata": {
        "colab": {
          "base_uri": "https://localhost:8080/"
        },
        "id": "5LALlqfGKHL8",
        "outputId": "3f2ca9fe-5adf-4ba7-bac0-f40586a6585f"
      },
      "execution_count": null,
      "outputs": [
        {
          "output_type": "stream",
          "name": "stdout",
          "text": [
            "b\n"
          ]
        }
      ]
    },
    {
      "cell_type": "markdown",
      "source": [
        "10. Write a code to reverse the list [10,20,30,40,50]"
      ],
      "metadata": {
        "id": "OcDoR1yPK2bK"
      }
    },
    {
      "cell_type": "code",
      "source": [
        "num = [10,20,30,40,50]\n",
        "num.reverse()\n",
        "print(num)"
      ],
      "metadata": {
        "colab": {
          "base_uri": "https://localhost:8080/"
        },
        "id": "ejfHfW2UK_f-",
        "outputId": "d93b7dc5-1c34-4ac5-9f7d-1c83607363ee"
      },
      "execution_count": null,
      "outputs": [
        {
          "output_type": "stream",
          "name": "stdout",
          "text": [
            "[50, 40, 30, 20, 10]\n"
          ]
        }
      ]
    },
    {
      "cell_type": "markdown",
      "source": [
        "11. Write a code to create a tuple with the elements 100,200,300 and print it."
      ],
      "metadata": {
        "id": "cOABhss5LZ_k"
      }
    },
    {
      "cell_type": "code",
      "source": [
        "num = tuple([100,200,300])\n",
        "print(num)"
      ],
      "metadata": {
        "colab": {
          "base_uri": "https://localhost:8080/"
        },
        "id": "HDKAGnlXLo0m",
        "outputId": "1a6d22d6-e621-4bc4-d750-c0857c89610d"
      },
      "execution_count": null,
      "outputs": [
        {
          "output_type": "stream",
          "name": "stdout",
          "text": [
            "(100, 200, 300)\n"
          ]
        }
      ]
    },
    {
      "cell_type": "markdown",
      "source": [
        "12. Write a code to access the second-to-last element of the tuple ('red','green','blue','yellow')."
      ],
      "metadata": {
        "id": "X-nokp2JL_iS"
      }
    },
    {
      "cell_type": "code",
      "source": [
        "colors = ('red','green','blue','yellow',)\n",
        "second_last = colors[-2]\n",
        "print(second_last)"
      ],
      "metadata": {
        "colab": {
          "base_uri": "https://localhost:8080/"
        },
        "id": "BK8KsF_NMYOT",
        "outputId": "0f7c0228-555f-4e11-b0f6-d184da6e7800"
      },
      "execution_count": null,
      "outputs": [
        {
          "output_type": "stream",
          "name": "stdout",
          "text": [
            "blue\n"
          ]
        }
      ]
    },
    {
      "cell_type": "markdown",
      "source": [
        "13.Write a code to find the minimum number in the tuple (10,20,5,15)."
      ],
      "metadata": {
        "id": "yI7qDNB2NFbH"
      }
    },
    {
      "cell_type": "code",
      "source": [
        "num = (10,20,5,15)\n",
        "min_num = min(num)\n",
        "print(min_num)\n"
      ],
      "metadata": {
        "colab": {
          "base_uri": "https://localhost:8080/"
        },
        "id": "xjZ_xWpdHcAk",
        "outputId": "1af9ac0c-3f12-414c-c7a3-550598846f2b"
      },
      "execution_count": 1,
      "outputs": [
        {
          "output_type": "stream",
          "name": "stdout",
          "text": [
            "5\n"
          ]
        }
      ]
    },
    {
      "cell_type": "markdown",
      "source": [
        "14. Write a code to find the index of the element \"cat\" in the tuple ('dog','cat','rabbit')."
      ],
      "metadata": {
        "id": "DaRsnsSQH-u1"
      }
    },
    {
      "cell_type": "code",
      "source": [
        "animals = ('dog','cat','rabbit')\n",
        "index = animals.index('cat')\n",
        "print(index)"
      ],
      "metadata": {
        "colab": {
          "base_uri": "https://localhost:8080/"
        },
        "id": "Mpr2tDsAIRaf",
        "outputId": "786a55bf-8ba8-429e-f49a-016c91f8a7f5"
      },
      "execution_count": 2,
      "outputs": [
        {
          "output_type": "stream",
          "name": "stdout",
          "text": [
            "1\n"
          ]
        }
      ]
    },
    {
      "cell_type": "markdown",
      "source": [
        "15. Write a code to create a tuple containing three different fruits and check if \"kiwi\" is in it."
      ],
      "metadata": {
        "id": "z-FUJabnI4YC"
      }
    },
    {
      "cell_type": "code",
      "source": [
        "fruits = ('apple','banana','orange',)\n",
        "if 'kiwi' in fruits:\n",
        "  print(\"Yes,kiwi is in the tuple\" )\n",
        "else:\n",
        "    print(\"No,kiwi is not in the tuple\")"
      ],
      "metadata": {
        "colab": {
          "base_uri": "https://localhost:8080/"
        },
        "id": "-uN77rDQJMIZ",
        "outputId": "2c22018e-fa7d-45d6-cc98-b6dba0ba795b"
      },
      "execution_count": 6,
      "outputs": [
        {
          "output_type": "stream",
          "name": "stdout",
          "text": [
            "No,kiwi is not in the tuple\n"
          ]
        }
      ]
    },
    {
      "cell_type": "markdown",
      "source": [
        "16. Write a code to create a set with the elements 'a','b','c' and print it."
      ],
      "metadata": {
        "id": "lzhwCJH6KmX3"
      }
    },
    {
      "cell_type": "code",
      "source": [
        "letters = {'a','b','c'}\n",
        "print(letters)"
      ],
      "metadata": {
        "colab": {
          "base_uri": "https://localhost:8080/"
        },
        "id": "qsJuYYHOK0nW",
        "outputId": "1dd4b06a-478a-4d48-a461-c561f981e61d"
      },
      "execution_count": 7,
      "outputs": [
        {
          "output_type": "stream",
          "name": "stdout",
          "text": [
            "{'c', 'b', 'a'}\n"
          ]
        }
      ]
    },
    {
      "cell_type": "markdown",
      "source": [
        "17. Write a code to clear all  elements from the set {1,2,3,4,5}."
      ],
      "metadata": {
        "id": "GA2ihJBnLWBu"
      }
    },
    {
      "cell_type": "code",
      "source": [
        "numbers = {1,2,3,4,5}\n",
        "numbers.clear()\n",
        "print(numbers)"
      ],
      "metadata": {
        "colab": {
          "base_uri": "https://localhost:8080/"
        },
        "id": "9BGqe4CkLpAC",
        "outputId": "686dd4e2-59ed-4bda-b3e1-a1133abff153"
      },
      "execution_count": 8,
      "outputs": [
        {
          "output_type": "stream",
          "name": "stdout",
          "text": [
            "set()\n"
          ]
        }
      ]
    },
    {
      "cell_type": "markdown",
      "source": [
        "18. Write a code to remove the element 4 from the set{1,2,3,4}."
      ],
      "metadata": {
        "id": "xXIhUWutMGS4"
      }
    },
    {
      "cell_type": "code",
      "source": [
        "numbers = {1,2,3,4}\n",
        "numbers.remove(4)\n",
        "print(numbers)"
      ],
      "metadata": {
        "colab": {
          "base_uri": "https://localhost:8080/"
        },
        "id": "2_ALBU-lMevB",
        "outputId": "7c04e582-ed31-4204-9b07-5836cb9063b7"
      },
      "execution_count": 9,
      "outputs": [
        {
          "output_type": "stream",
          "name": "stdout",
          "text": [
            "{1, 2, 3}\n"
          ]
        }
      ]
    },
    {
      "cell_type": "markdown",
      "source": [
        "19.Write a code to find the union of two sets {1,2,3} and {3,4,5]."
      ],
      "metadata": {
        "id": "Qbej4NayMtJ6"
      }
    },
    {
      "cell_type": "code",
      "source": [
        "set1 =  {1,2,3}\n",
        "set2 =  {3,4,5}\n",
        "union_set = set1.union(set2)\n",
        "print(union_set)"
      ],
      "metadata": {
        "colab": {
          "base_uri": "https://localhost:8080/"
        },
        "id": "r5NI4ZN7M6O_",
        "outputId": "2c29d51c-1530-480f-901f-9718ff7b9b6f"
      },
      "execution_count": 11,
      "outputs": [
        {
          "output_type": "stream",
          "name": "stdout",
          "text": [
            "{1, 2, 3, 4, 5}\n"
          ]
        }
      ]
    },
    {
      "cell_type": "markdown",
      "source": [
        "20. Write a code to find the intersection of two sets {1,2,3} and {2,3,4}."
      ],
      "metadata": {
        "id": "YcXKBBfgOEGd"
      }
    },
    {
      "cell_type": "code",
      "source": [
        "set1 =  {1,2,3}\n",
        "set2 = {2,3,4}\n",
        "intersection_set = set1.intersection(set2)\n",
        "print(intersection_set)"
      ],
      "metadata": {
        "colab": {
          "base_uri": "https://localhost:8080/"
        },
        "id": "P9vhrGybPUke",
        "outputId": "57dada38-bfe4-409e-92a6-2b7871a743be"
      },
      "execution_count": 12,
      "outputs": [
        {
          "output_type": "stream",
          "name": "stdout",
          "text": [
            "{2, 3}\n"
          ]
        }
      ]
    },
    {
      "cell_type": "markdown",
      "source": [
        "21. Write a code to create the dictionary with keys \"name\",\"age\",and \"city\",and print it."
      ],
      "metadata": {
        "id": "i_h26dKfQCSn"
      }
    },
    {
      "cell_type": "code",
      "source": [
        "person = {\n",
        "    \"name\":\"john\",\n",
        "    \"age\":30,\n",
        "    \"city\":\"New York\"\n",
        "\n",
        "}\n",
        "print(person)"
      ],
      "metadata": {
        "colab": {
          "base_uri": "https://localhost:8080/"
        },
        "id": "Py3VdE2NQUsT",
        "outputId": "c0027c55-7695-4e06-f663-be233f71500c"
      },
      "execution_count": 14,
      "outputs": [
        {
          "output_type": "stream",
          "name": "stdout",
          "text": [
            "{'name': 'john', 'age': 30, 'city': 'New York'}\n"
          ]
        }
      ]
    },
    {
      "cell_type": "markdown",
      "source": [
        "22. Write a code to add a new key-value pair \"country\": \"USA\" to the dictionary {'name':'john','age':25)."
      ],
      "metadata": {
        "id": "TRGikG1gRQu7"
      }
    },
    {
      "cell_type": "code",
      "source": [
        "person = {'name':'john','age':25}\n",
        "person['country'] = 'USA'\n",
        "print(person)\n"
      ],
      "metadata": {
        "colab": {
          "base_uri": "https://localhost:8080/"
        },
        "id": "RPoC2KClRxu_",
        "outputId": "88d92e72-f32e-4ba2-9b30-d065eb673c18"
      },
      "execution_count": 15,
      "outputs": [
        {
          "output_type": "stream",
          "name": "stdout",
          "text": [
            "{'name': 'john', 'age': 25, 'country': 'USA'}\n"
          ]
        }
      ]
    },
    {
      "cell_type": "markdown",
      "source": [
        "23. Write a code to access the value associated with the key \"name\" in the dictionary {'name':'alice','age':30)."
      ],
      "metadata": {
        "id": "jK1bnWlEmxhw"
      }
    },
    {
      "cell_type": "code",
      "source": [
        "person = {'name':'alice','age':30}\n",
        "name = person['name']\n",
        "print(name)"
      ],
      "metadata": {
        "colab": {
          "base_uri": "https://localhost:8080/"
        },
        "id": "JeY1dP97nOJn",
        "outputId": "229fe8ab-a0c9-4373-a625-17d5c8ca88b9"
      },
      "execution_count": 1,
      "outputs": [
        {
          "output_type": "stream",
          "name": "stdout",
          "text": [
            "alice\n"
          ]
        }
      ]
    },
    {
      "cell_type": "markdown",
      "source": [
        "24. Write a code to remove the key \"age\" from the dictionary {'name':'Bob','age':22,'city':'New York'}."
      ],
      "metadata": {
        "id": "n23r6blKodSF"
      }
    },
    {
      "cell_type": "code",
      "source": [
        "person = {'name':'Bob','age':22,'city':'New York'}\n",
        "person.pop('age')\n",
        "print(person)"
      ],
      "metadata": {
        "colab": {
          "base_uri": "https://localhost:8080/"
        },
        "id": "yyt4iPbso-Cw",
        "outputId": "05a3333a-9d2d-445e-eb00-1b5c1d308755"
      },
      "execution_count": 2,
      "outputs": [
        {
          "output_type": "stream",
          "name": "stdout",
          "text": [
            "{'name': 'Bob', 'city': 'New York'}\n"
          ]
        }
      ]
    },
    {
      "cell_type": "markdown",
      "source": [
        "25. Write a code to check if the key \"city\" exists in the dictionary {'name':'Alice','city':'paris')."
      ],
      "metadata": {
        "id": "1SaUfl3Vp3Bi"
      }
    },
    {
      "cell_type": "code",
      "source": [
        "person = {'name':'Alice','city':'paris'}\n",
        "if 'city'in person:\n",
        "  print(\"Yes,'city'is in the dictionary\")\n",
        "else:\n",
        "  print(\"No,'city'is not in the dictionary\")"
      ],
      "metadata": {
        "colab": {
          "base_uri": "https://localhost:8080/"
        },
        "id": "bAnqgwEAqRIm",
        "outputId": "e7c1f397-ec7a-4f39-c85e-839b1a57f311"
      },
      "execution_count": 3,
      "outputs": [
        {
          "output_type": "stream",
          "name": "stdout",
          "text": [
            "Yes,'city'is in the dictionary\n"
          ]
        }
      ]
    },
    {
      "cell_type": "markdown",
      "source": [
        "26. Write a code to create a list,a tuple,and a dictionary,and print them all."
      ],
      "metadata": {
        "id": "4htVEFKgrjRo"
      }
    },
    {
      "cell_type": "code",
      "source": [
        "#create a list\n",
        "my_list = [1,2,3,4,5]\n",
        "print(\"list:\",my_list)"
      ],
      "metadata": {
        "colab": {
          "base_uri": "https://localhost:8080/"
        },
        "id": "Y2yRSgPnrx-B",
        "outputId": "4ed3992c-80a4-4cad-e5f4-a7f3537fe0e2"
      },
      "execution_count": 4,
      "outputs": [
        {
          "output_type": "stream",
          "name": "stdout",
          "text": [
            "list: [1, 2, 3, 4, 5]\n"
          ]
        }
      ]
    },
    {
      "cell_type": "code",
      "source": [
        "#create a tuple\n",
        "my_tuple = (6,7,8,9,10)\n",
        "print(\"Tuple:\",my_tuple)"
      ],
      "metadata": {
        "colab": {
          "base_uri": "https://localhost:8080/"
        },
        "id": "52Tv_gg9sUkc",
        "outputId": "5119973a-66d7-4761-f825-0b9b76e24434"
      },
      "execution_count": 5,
      "outputs": [
        {
          "output_type": "stream",
          "name": "stdout",
          "text": [
            "Tuple: (6, 7, 8, 9, 10)\n"
          ]
        }
      ]
    },
    {
      "cell_type": "code",
      "source": [
        "#create a dictionary\n",
        "my_dict = {'name':'john','age':30,'city':'New York'}\n",
        "print(\"dictionary:\",my_dict)"
      ],
      "metadata": {
        "colab": {
          "base_uri": "https://localhost:8080/"
        },
        "id": "M3iQvDLBsn0f",
        "outputId": "08d9a803-375f-44be-9d96-10c8f0b7f7eb"
      },
      "execution_count": 6,
      "outputs": [
        {
          "output_type": "stream",
          "name": "stdout",
          "text": [
            "dictionary: {'name': 'john', 'age': 30, 'city': 'New York'}\n"
          ]
        }
      ]
    },
    {
      "cell_type": "markdown",
      "source": [
        "27. Write a code to create a list of 5 random numbers between 1 and 100,sort it in ascending order,and print the result.(replaced)."
      ],
      "metadata": {
        "id": "i6s2RGkgtVsz"
      }
    },
    {
      "cell_type": "code",
      "source": [
        "random_numbers = random.sample(range(1,101),5)\n",
        "print(\"Original List:\",random_numbers)"
      ],
      "metadata": {
        "colab": {
          "base_uri": "https://localhost:8080/",
          "height": 158
        },
        "id": "rXFfy7BGtrOc",
        "outputId": "4358208d-efdd-4b74-cd48-926a4cdb9287"
      },
      "execution_count": 9,
      "outputs": [
        {
          "output_type": "error",
          "ename": "NameError",
          "evalue": "name 'random' is not defined",
          "traceback": [
            "\u001b[0;31m---------------------------------------------------------------------------\u001b[0m",
            "\u001b[0;31mNameError\u001b[0m                                 Traceback (most recent call last)",
            "\u001b[0;32m<ipython-input-9-4f58933b47fb>\u001b[0m in \u001b[0;36m<cell line: 0>\u001b[0;34m()\u001b[0m\n\u001b[0;32m----> 1\u001b[0;31m \u001b[0mrandom_numbers\u001b[0m \u001b[0;34m=\u001b[0m \u001b[0mrandom\u001b[0m\u001b[0;34m.\u001b[0m\u001b[0msample\u001b[0m\u001b[0;34m(\u001b[0m\u001b[0mrange\u001b[0m\u001b[0;34m(\u001b[0m\u001b[0;36m1\u001b[0m\u001b[0;34m,\u001b[0m\u001b[0;36m101\u001b[0m\u001b[0;34m)\u001b[0m\u001b[0;34m,\u001b[0m\u001b[0;36m5\u001b[0m\u001b[0;34m)\u001b[0m\u001b[0;34m\u001b[0m\u001b[0;34m\u001b[0m\u001b[0m\n\u001b[0m\u001b[1;32m      2\u001b[0m \u001b[0mprint\u001b[0m\u001b[0;34m(\u001b[0m\u001b[0;34m\"Original List:\"\u001b[0m\u001b[0;34m,\u001b[0m\u001b[0mrandom_numbers\u001b[0m\u001b[0;34m)\u001b[0m\u001b[0;34m\u001b[0m\u001b[0;34m\u001b[0m\u001b[0m\n",
            "\u001b[0;31mNameError\u001b[0m: name 'random' is not defined"
          ]
        }
      ]
    },
    {
      "cell_type": "markdown",
      "source": [
        "28. Write a code to create a list with strings and print the element at the third index."
      ],
      "metadata": {
        "id": "dxjKtm_lvenG"
      }
    },
    {
      "cell_type": "code",
      "source": [
        "fruits = ['apple','banana','cherry','date','elderberry']\n",
        "print(fruits[3])"
      ],
      "metadata": {
        "colab": {
          "base_uri": "https://localhost:8080/"
        },
        "id": "J29HblaWvu5T",
        "outputId": "b52599de-39c1-4afa-ced6-d3404f28850c"
      },
      "execution_count": 10,
      "outputs": [
        {
          "output_type": "stream",
          "name": "stdout",
          "text": [
            "date\n"
          ]
        }
      ]
    },
    {
      "cell_type": "markdown",
      "source": [
        "29. Write a code to combine two dictionaries into one and print the result."
      ],
      "metadata": {
        "id": "QHcyPZe-waho"
      }
    },
    {
      "cell_type": "code",
      "source": [
        "dict1 = {'a':1,'b':2}\n",
        "dict2 = {'c':3,'d':4}\n",
        "combined_dict = dict1.copy()\n",
        "combined_dict.update(dict2)\n",
        "print(combined_dict)"
      ],
      "metadata": {
        "colab": {
          "base_uri": "https://localhost:8080/"
        },
        "id": "QI1rcWK3wpeq",
        "outputId": "2d5c208b-e9d9-45e5-cf07-96adbbe02fe7"
      },
      "execution_count": 15,
      "outputs": [
        {
          "output_type": "stream",
          "name": "stdout",
          "text": [
            "{'a': 1, 'b': 2, 'c': 3, 'd': 4}\n"
          ]
        }
      ]
    },
    {
      "cell_type": "markdown",
      "source": [
        "30. Write a code to covert a list of strings into a set."
      ],
      "metadata": {
        "id": "-APd8RSTyLlC"
      }
    },
    {
      "cell_type": "code",
      "source": [
        "string_list = ['apple','banana','apple','orange','banana']\n",
        "string_set = set(string_list)\n",
        "print(string_set)"
      ],
      "metadata": {
        "colab": {
          "base_uri": "https://localhost:8080/"
        },
        "id": "ZoX1j7oryVfJ",
        "outputId": "e2b20bff-8d91-41ea-ab4b-3408c981a50e"
      },
      "execution_count": 16,
      "outputs": [
        {
          "output_type": "stream",
          "name": "stdout",
          "text": [
            "{'apple', 'banana', 'orange'}\n"
          ]
        }
      ]
    }
  ]
}